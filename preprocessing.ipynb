{
 "cells": [
  {
   "cell_type": "code",
   "execution_count": 1,
   "metadata": {},
   "outputs": [],
   "source": [
    "import pandas as pd\n",
    "import numpy as np"
   ]
  },
  {
   "cell_type": "markdown",
   "metadata": {},
   "source": [
    "Tên file:\n",
    "- input: \"house.csv\"\n",
    "- output: \"house_preprocessing_for_dashboard.csv\""
   ]
  },
  {
   "cell_type": "code",
   "execution_count": 2,
   "metadata": {},
   "outputs": [],
   "source": [
    "INPUT = \"house.csv\"\n",
    "OUTPUT = \"house_preprocessing_for_dashboard.csv\""
   ]
  },
  {
   "cell_type": "markdown",
   "metadata": {},
   "source": [
    "**Các cột cần xử lí**"
   ]
  },
  {
   "cell_type": "code",
   "execution_count": 13,
   "metadata": {},
   "outputs": [],
   "source": [
    "quan = 'Quận'\n",
    "loai_hinh = 'Loại hình nhà ở'\n",
    "giay_to = 'Giấy tờ pháp lý'\n",
    "so_tang = 'Số tầng'\n",
    "so_phong_ngu = 'Số phòng ngủ'\n",
    "dien_tich = 'Diện tích (m2)'\n",
    "dang_nha = 'Dáng nhà'"
   ]
  },
  {
   "cell_type": "markdown",
   "metadata": {},
   "source": [
    "### Đọc dữ liệu"
   ]
  },
  {
   "cell_type": "code",
   "execution_count": 3,
   "metadata": {},
   "outputs": [
    {
     "data": {
      "text/html": [
       "<div>\n",
       "<style scoped>\n",
       "    .dataframe tbody tr th:only-of-type {\n",
       "        vertical-align: middle;\n",
       "    }\n",
       "\n",
       "    .dataframe tbody tr th {\n",
       "        vertical-align: top;\n",
       "    }\n",
       "\n",
       "    .dataframe thead th {\n",
       "        text-align: right;\n",
       "    }\n",
       "</style>\n",
       "<table border=\"1\" class=\"dataframe\">\n",
       "  <thead>\n",
       "    <tr style=\"text-align: right;\">\n",
       "      <th></th>\n",
       "      <th>Ngày</th>\n",
       "      <th>Địa chỉ</th>\n",
       "      <th>Quận</th>\n",
       "      <th>Huyện</th>\n",
       "      <th>Loại hình nhà ở</th>\n",
       "      <th>Giấy tờ pháp lý</th>\n",
       "      <th>Số tầng</th>\n",
       "      <th>Số phòng ngủ</th>\n",
       "      <th>Diện tích (m2)</th>\n",
       "      <th>Dài (m)</th>\n",
       "      <th>Rộng (m)</th>\n",
       "      <th>Giá/m2 (triệu)</th>\n",
       "    </tr>\n",
       "  </thead>\n",
       "  <tbody>\n",
       "    <tr>\n",
       "      <th>0</th>\n",
       "      <td>2020-08-05</td>\n",
       "      <td>Đường Hoàng Quốc Việt, Phường Nghĩa Đô, Quận C...</td>\n",
       "      <td>Quận Cầu Giấy</td>\n",
       "      <td>Phường Nghĩa Đô</td>\n",
       "      <td>Nhà ngõ, hẻm</td>\n",
       "      <td>Đã có sổ</td>\n",
       "      <td>4.0</td>\n",
       "      <td>5.0</td>\n",
       "      <td>46.0</td>\n",
       "      <td>NaN</td>\n",
       "      <td>NaN</td>\n",
       "      <td>86.96</td>\n",
       "    </tr>\n",
       "    <tr>\n",
       "      <th>1</th>\n",
       "      <td>2020-08-05</td>\n",
       "      <td>Đường Kim Giang, Phường Kim Giang, Quận Thanh ...</td>\n",
       "      <td>Quận Thanh Xuân</td>\n",
       "      <td>Phường Kim Giang</td>\n",
       "      <td>Nhà mặt phố, mặt tiền</td>\n",
       "      <td>NaN</td>\n",
       "      <td>NaN</td>\n",
       "      <td>3.0</td>\n",
       "      <td>37.0</td>\n",
       "      <td>NaN</td>\n",
       "      <td>NaN</td>\n",
       "      <td>116.22</td>\n",
       "    </tr>\n",
       "    <tr>\n",
       "      <th>2</th>\n",
       "      <td>2020-08-05</td>\n",
       "      <td>phố minh khai, Phường Minh Khai, Quận Hai Bà T...</td>\n",
       "      <td>Quận Hai Bà Trưng</td>\n",
       "      <td>Phường Minh Khai</td>\n",
       "      <td>Nhà ngõ, hẻm</td>\n",
       "      <td>Đã có sổ</td>\n",
       "      <td>4.0</td>\n",
       "      <td>4.0</td>\n",
       "      <td>40.0</td>\n",
       "      <td>10.00</td>\n",
       "      <td>4.0</td>\n",
       "      <td>65.00</td>\n",
       "    </tr>\n",
       "    <tr>\n",
       "      <th>3</th>\n",
       "      <td>2020-08-05</td>\n",
       "      <td>Đường Võng Thị, Phường Thụy Khuê, Quận Tây Hồ,...</td>\n",
       "      <td>Quận Tây Hồ</td>\n",
       "      <td>Phường Thụy Khuê</td>\n",
       "      <td>Nhà ngõ, hẻm</td>\n",
       "      <td>Đã có sổ</td>\n",
       "      <td>NaN</td>\n",
       "      <td>6.0</td>\n",
       "      <td>51.0</td>\n",
       "      <td>12.75</td>\n",
       "      <td>4.0</td>\n",
       "      <td>100.00</td>\n",
       "    </tr>\n",
       "    <tr>\n",
       "      <th>4</th>\n",
       "      <td>2020-08-05</td>\n",
       "      <td>Đường Kim Giang, Phường Kim Giang, Quận Thanh ...</td>\n",
       "      <td>Quận Thanh Xuân</td>\n",
       "      <td>Phường Kim Giang</td>\n",
       "      <td>Nhà ngõ, hẻm</td>\n",
       "      <td>NaN</td>\n",
       "      <td>NaN</td>\n",
       "      <td>4.0</td>\n",
       "      <td>36.0</td>\n",
       "      <td>9.00</td>\n",
       "      <td>4.0</td>\n",
       "      <td>86.11</td>\n",
       "    </tr>\n",
       "  </tbody>\n",
       "</table>\n",
       "</div>"
      ],
      "text/plain": [
       "         Ngày                                            Địa chỉ  \\\n",
       "0  2020-08-05  Đường Hoàng Quốc Việt, Phường Nghĩa Đô, Quận C...   \n",
       "1  2020-08-05  Đường Kim Giang, Phường Kim Giang, Quận Thanh ...   \n",
       "2  2020-08-05  phố minh khai, Phường Minh Khai, Quận Hai Bà T...   \n",
       "3  2020-08-05  Đường Võng Thị, Phường Thụy Khuê, Quận Tây Hồ,...   \n",
       "4  2020-08-05  Đường Kim Giang, Phường Kim Giang, Quận Thanh ...   \n",
       "\n",
       "                Quận             Huyện        Loại hình nhà ở Giấy tờ pháp lý  \\\n",
       "0      Quận Cầu Giấy   Phường Nghĩa Đô           Nhà ngõ, hẻm        Đã có sổ   \n",
       "1    Quận Thanh Xuân  Phường Kim Giang  Nhà mặt phố, mặt tiền             NaN   \n",
       "2  Quận Hai Bà Trưng  Phường Minh Khai           Nhà ngõ, hẻm        Đã có sổ   \n",
       "3        Quận Tây Hồ  Phường Thụy Khuê           Nhà ngõ, hẻm        Đã có sổ   \n",
       "4    Quận Thanh Xuân  Phường Kim Giang           Nhà ngõ, hẻm             NaN   \n",
       "\n",
       "   Số tầng  Số phòng ngủ  Diện tích (m2)  Dài (m)  Rộng (m)  Giá/m2 (triệu)  \n",
       "0      4.0           5.0            46.0      NaN       NaN           86.96  \n",
       "1      NaN           3.0            37.0      NaN       NaN          116.22  \n",
       "2      4.0           4.0            40.0    10.00       4.0           65.00  \n",
       "3      NaN           6.0            51.0    12.75       4.0          100.00  \n",
       "4      NaN           4.0            36.0     9.00       4.0           86.11  "
      ]
     },
     "execution_count": 3,
     "metadata": {},
     "output_type": "execute_result"
    }
   ],
   "source": [
    "df = pd.read_csv(INPUT, index_col=0)\n",
    "df.head()"
   ]
  },
  {
   "cell_type": "markdown",
   "metadata": {},
   "source": [
    "**Loại bỏ các dòng trùng lặp**"
   ]
  },
  {
   "cell_type": "code",
   "execution_count": 10,
   "metadata": {},
   "outputs": [
    {
     "data": {
      "text/plain": [
       "0"
      ]
     },
     "execution_count": 10,
     "metadata": {},
     "output_type": "execute_result"
    }
   ],
   "source": [
    "df.drop_duplicates(inplace=True)\n",
    "len(df[df.duplicated()])"
   ]
  },
  {
   "cell_type": "markdown",
   "metadata": {},
   "source": [
    "**Xóa bỏ các dòng có `nan` ở cột `Quận`**"
   ]
  },
  {
   "cell_type": "code",
   "execution_count": 14,
   "metadata": {},
   "outputs": [
    {
     "data": {
      "text/html": [
       "<div>\n",
       "<style scoped>\n",
       "    .dataframe tbody tr th:only-of-type {\n",
       "        vertical-align: middle;\n",
       "    }\n",
       "\n",
       "    .dataframe tbody tr th {\n",
       "        vertical-align: top;\n",
       "    }\n",
       "\n",
       "    .dataframe thead th {\n",
       "        text-align: right;\n",
       "    }\n",
       "</style>\n",
       "<table border=\"1\" class=\"dataframe\">\n",
       "  <thead>\n",
       "    <tr style=\"text-align: right;\">\n",
       "      <th></th>\n",
       "      <th>Ngày</th>\n",
       "      <th>Địa chỉ</th>\n",
       "      <th>Quận</th>\n",
       "      <th>Huyện</th>\n",
       "      <th>Loại hình nhà ở</th>\n",
       "      <th>Giấy tờ pháp lý</th>\n",
       "      <th>Số tầng</th>\n",
       "      <th>Số phòng ngủ</th>\n",
       "      <th>Diện tích (m2)</th>\n",
       "      <th>Dài (m)</th>\n",
       "      <th>Rộng (m)</th>\n",
       "      <th>Giá/m2 (triệu)</th>\n",
       "    </tr>\n",
       "  </thead>\n",
       "  <tbody>\n",
       "  </tbody>\n",
       "</table>\n",
       "</div>"
      ],
      "text/plain": [
       "Empty DataFrame\n",
       "Columns: [Ngày, Địa chỉ, Quận, Huyện, Loại hình nhà ở, Giấy tờ pháp lý, Số tầng, Số phòng ngủ, Diện tích (m2), Dài (m), Rộng (m), Giá/m2 (triệu)]\n",
       "Index: []"
      ]
     },
     "execution_count": 14,
     "metadata": {},
     "output_type": "execute_result"
    }
   ],
   "source": [
    "df.dropna(subset=[quan], inplace=True)\n",
    "df[df[quan].isna()]"
   ]
  },
  {
   "cell_type": "markdown",
   "metadata": {},
   "source": [
    "**Thay thế `nan` ở các cột `Loại hình nhà ở` và `Giấy tờ pháp lý` bằng giá trị `Không có`**"
   ]
  },
  {
   "cell_type": "code",
   "execution_count": 19,
   "metadata": {},
   "outputs": [
    {
     "data": {
      "text/html": [
       "<div>\n",
       "<style scoped>\n",
       "    .dataframe tbody tr th:only-of-type {\n",
       "        vertical-align: middle;\n",
       "    }\n",
       "\n",
       "    .dataframe tbody tr th {\n",
       "        vertical-align: top;\n",
       "    }\n",
       "\n",
       "    .dataframe thead th {\n",
       "        text-align: right;\n",
       "    }\n",
       "</style>\n",
       "<table border=\"1\" class=\"dataframe\">\n",
       "  <thead>\n",
       "    <tr style=\"text-align: right;\">\n",
       "      <th></th>\n",
       "      <th>Ngày</th>\n",
       "      <th>Địa chỉ</th>\n",
       "      <th>Quận</th>\n",
       "      <th>Huyện</th>\n",
       "      <th>Loại hình nhà ở</th>\n",
       "      <th>Giấy tờ pháp lý</th>\n",
       "      <th>Số tầng</th>\n",
       "      <th>Số phòng ngủ</th>\n",
       "      <th>Diện tích (m2)</th>\n",
       "      <th>Dài (m)</th>\n",
       "      <th>Rộng (m)</th>\n",
       "      <th>Giá/m2 (triệu)</th>\n",
       "    </tr>\n",
       "  </thead>\n",
       "  <tbody>\n",
       "    <tr>\n",
       "      <th>3928</th>\n",
       "      <td>2020-08-03</td>\n",
       "      <td>Đường Đặng Thai Mai, Phường Quảng An, Quận Tây...</td>\n",
       "      <td>Quận Tây Hồ</td>\n",
       "      <td>Phường Quảng An</td>\n",
       "      <td>Không có</td>\n",
       "      <td>Không có</td>\n",
       "      <td>NaN</td>\n",
       "      <td>NaN</td>\n",
       "      <td>1000.0</td>\n",
       "      <td>NaN</td>\n",
       "      <td>NaN</td>\n",
       "      <td>12.600</td>\n",
       "    </tr>\n",
       "    <tr>\n",
       "      <th>19888</th>\n",
       "      <td>2020-07-24</td>\n",
       "      <td>Đường Văn Phú, Phường Phúc La, Quận Hà Đông, H...</td>\n",
       "      <td>Quận Hà Đông</td>\n",
       "      <td>Phường Phúc La</td>\n",
       "      <td>Không có</td>\n",
       "      <td>Đã có sổ</td>\n",
       "      <td>NaN</td>\n",
       "      <td>4.0</td>\n",
       "      <td>50.0</td>\n",
       "      <td>NaN</td>\n",
       "      <td>NaN</td>\n",
       "      <td>136.000</td>\n",
       "    </tr>\n",
       "    <tr>\n",
       "      <th>23415</th>\n",
       "      <td>2020-07-22</td>\n",
       "      <td>Đường Võ Chí Công||770, Phường Xuân La, Quận T...</td>\n",
       "      <td>Quận Tây Hồ</td>\n",
       "      <td>Phường Xuân La</td>\n",
       "      <td>Không có</td>\n",
       "      <td>Đã có sổ</td>\n",
       "      <td>NaN</td>\n",
       "      <td>NaN</td>\n",
       "      <td>33.0</td>\n",
       "      <td>9.0</td>\n",
       "      <td>3.6</td>\n",
       "      <td>93.940</td>\n",
       "    </tr>\n",
       "    <tr>\n",
       "      <th>26557</th>\n",
       "      <td>2020-07-20</td>\n",
       "      <td>Đường Thái Hà, Phường Láng Hạ, Quận Đống Đa, H...</td>\n",
       "      <td>Quận Đống Đa</td>\n",
       "      <td>Phường Láng Hạ</td>\n",
       "      <td>Không có</td>\n",
       "      <td>Đã có sổ</td>\n",
       "      <td>NaN</td>\n",
       "      <td>NaN</td>\n",
       "      <td>71.0</td>\n",
       "      <td>NaN</td>\n",
       "      <td>NaN</td>\n",
       "      <td>185.920</td>\n",
       "    </tr>\n",
       "    <tr>\n",
       "      <th>26908</th>\n",
       "      <td>2020-07-20</td>\n",
       "      <td>Flc Đại Mỗ, Phường Đại Mỗ, Quận Nam Từ Liêm, H...</td>\n",
       "      <td>Quận Nam Từ Liêm</td>\n",
       "      <td>Phường Đại Mỗ</td>\n",
       "      <td>Không có</td>\n",
       "      <td>Đang chờ sổ</td>\n",
       "      <td>NaN</td>\n",
       "      <td>1.0</td>\n",
       "      <td>45.0</td>\n",
       "      <td>NaN</td>\n",
       "      <td>NaN</td>\n",
       "      <td>488.888</td>\n",
       "    </tr>\n",
       "  </tbody>\n",
       "</table>\n",
       "</div>"
      ],
      "text/plain": [
       "             Ngày                                            Địa chỉ  \\\n",
       "3928   2020-08-03  Đường Đặng Thai Mai, Phường Quảng An, Quận Tây...   \n",
       "19888  2020-07-24  Đường Văn Phú, Phường Phúc La, Quận Hà Đông, H...   \n",
       "23415  2020-07-22  Đường Võ Chí Công||770, Phường Xuân La, Quận T...   \n",
       "26557  2020-07-20  Đường Thái Hà, Phường Láng Hạ, Quận Đống Đa, H...   \n",
       "26908  2020-07-20  Flc Đại Mỗ, Phường Đại Mỗ, Quận Nam Từ Liêm, H...   \n",
       "\n",
       "                   Quận            Huyện Loại hình nhà ở Giấy tờ pháp lý  \\\n",
       "3928        Quận Tây Hồ  Phường Quảng An        Không có        Không có   \n",
       "19888      Quận Hà Đông   Phường Phúc La        Không có        Đã có sổ   \n",
       "23415       Quận Tây Hồ   Phường Xuân La        Không có        Đã có sổ   \n",
       "26557      Quận Đống Đa   Phường Láng Hạ        Không có        Đã có sổ   \n",
       "26908  Quận Nam Từ Liêm    Phường Đại Mỗ        Không có     Đang chờ sổ   \n",
       "\n",
       "       Số tầng  Số phòng ngủ  Diện tích (m2)  Dài (m)  Rộng (m)  \\\n",
       "3928       NaN           NaN          1000.0      NaN       NaN   \n",
       "19888      NaN           4.0            50.0      NaN       NaN   \n",
       "23415      NaN           NaN            33.0      9.0       3.6   \n",
       "26557      NaN           NaN            71.0      NaN       NaN   \n",
       "26908      NaN           1.0            45.0      NaN       NaN   \n",
       "\n",
       "       Giá/m2 (triệu)  \n",
       "3928           12.600  \n",
       "19888         136.000  \n",
       "23415          93.940  \n",
       "26557         185.920  \n",
       "26908         488.888  "
      ]
     },
     "execution_count": 19,
     "metadata": {},
     "output_type": "execute_result"
    }
   ],
   "source": [
    "df.fillna({loai_hinh: 'Không có', giay_to: 'Không có'}, inplace=True)\n",
    "df[df[loai_hinh] == 'Không có'].head()"
   ]
  },
  {
   "cell_type": "code",
   "execution_count": null,
   "metadata": {},
   "outputs": [],
   "source": []
  }
 ],
 "metadata": {
  "kernelspec": {
   "display_name": "Python 3",
   "language": "python",
   "name": "python3"
  },
  "language_info": {
   "codemirror_mode": {
    "name": "ipython",
    "version": 3
   },
   "file_extension": ".py",
   "mimetype": "text/x-python",
   "name": "python",
   "nbconvert_exporter": "python",
   "pygments_lexer": "ipython3",
   "version": "3.11.2"
  },
  "orig_nbformat": 4
 },
 "nbformat": 4,
 "nbformat_minor": 2
}
