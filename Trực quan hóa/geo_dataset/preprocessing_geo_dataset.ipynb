{
 "cells": [
  {
   "cell_type": "code",
   "execution_count": 1,
   "metadata": {},
   "outputs": [],
   "source": [
    "import pandas as pd\n",
    "import matplotlib.pyplot as plt\n",
    "import geopandas as gpd\n",
    "from unidecode import unidecode"
   ]
  },
  {
   "cell_type": "code",
   "execution_count": 2,
   "metadata": {},
   "outputs": [],
   "source": [
    "# Đọc shapefile chưa dữ liệu tọa độ của Việt Nam, lưu ý giữ nguyên thư mục diaphanhuyen mới hiện toàn bộ thông tin cần thiết\n",
    "gdf = gpd.read_file('diaphanhuyen\\Dia_phan_Huyen.shp')"
   ]
  },
  {
   "cell_type": "code",
   "execution_count": 3,
   "metadata": {},
   "outputs": [],
   "source": [
    "gdf = gdf[gdf['Ten_Tinh'] == 'Hà Nội']"
   ]
  },
  {
   "cell_type": "code",
   "execution_count": 4,
   "metadata": {},
   "outputs": [
    {
     "data": {
      "text/html": [
       "<div>\n",
       "<style scoped>\n",
       "    .dataframe tbody tr th:only-of-type {\n",
       "        vertical-align: middle;\n",
       "    }\n",
       "\n",
       "    .dataframe tbody tr th {\n",
       "        vertical-align: top;\n",
       "    }\n",
       "\n",
       "    .dataframe thead th {\n",
       "        text-align: right;\n",
       "    }\n",
       "</style>\n",
       "<table border=\"1\" class=\"dataframe\">\n",
       "  <thead>\n",
       "    <tr style=\"text-align: right;\">\n",
       "      <th></th>\n",
       "      <th>Quận</th>\n",
       "      <th>geometry</th>\n",
       "    </tr>\n",
       "  </thead>\n",
       "  <tbody>\n",
       "    <tr>\n",
       "      <th>415</th>\n",
       "      <td>Ba Dinh</td>\n",
       "      <td>POLYGON ((105.83844 21.05651, 105.84544 21.054...</td>\n",
       "    </tr>\n",
       "    <tr>\n",
       "      <th>416</th>\n",
       "      <td>Cau Giay</td>\n",
       "      <td>POLYGON ((105.80648 21.04909, 105.80526 21.049...</td>\n",
       "    </tr>\n",
       "    <tr>\n",
       "      <th>419</th>\n",
       "      <td>Long Bien</td>\n",
       "      <td>POLYGON ((105.84409 21.08138, 105.84501 21.081...</td>\n",
       "    </tr>\n",
       "    <tr>\n",
       "      <th>422</th>\n",
       "      <td>Hoai Duc</td>\n",
       "      <td>POLYGON ((105.69299 21.08890, 105.69663 21.086...</td>\n",
       "    </tr>\n",
       "    <tr>\n",
       "      <th>424</th>\n",
       "      <td>Tay Ho</td>\n",
       "      <td>POLYGON ((105.81210 21.10103, 105.81799 21.098...</td>\n",
       "    </tr>\n",
       "    <tr>\n",
       "      <th>425</th>\n",
       "      <td>Thach That</td>\n",
       "      <td>POLYGON ((105.56924 21.09892, 105.57018 21.098...</td>\n",
       "    </tr>\n",
       "    <tr>\n",
       "      <th>427</th>\n",
       "      <td>Tu Liem</td>\n",
       "      <td>POLYGON ((105.73040 21.11217, 105.74051 21.103...</td>\n",
       "    </tr>\n",
       "    <tr>\n",
       "      <th>428</th>\n",
       "      <td>Gia Lam</td>\n",
       "      <td>POLYGON ((105.91323 21.12309, 105.91990 21.122...</td>\n",
       "    </tr>\n",
       "    <tr>\n",
       "      <th>432</th>\n",
       "      <td>Dan Phuong</td>\n",
       "      <td>POLYGON ((105.65003 21.15468, 105.66039 21.152...</td>\n",
       "    </tr>\n",
       "    <tr>\n",
       "      <th>434</th>\n",
       "      <td>Phuc Tho</td>\n",
       "      <td>POLYGON ((105.60475 21.16508, 105.60633 21.164...</td>\n",
       "    </tr>\n",
       "    <tr>\n",
       "      <th>435</th>\n",
       "      <td>Son Tay</td>\n",
       "      <td>POLYGON ((105.46825 21.17711, 105.47013 21.175...</td>\n",
       "    </tr>\n",
       "    <tr>\n",
       "      <th>438</th>\n",
       "      <td>Dong Anh</td>\n",
       "      <td>POLYGON ((105.87070 21.20770, 105.87097 21.207...</td>\n",
       "    </tr>\n",
       "    <tr>\n",
       "      <th>449</th>\n",
       "      <td>Phu Xuyen</td>\n",
       "      <td>POLYGON ((105.82787 20.80504, 105.82790 20.800...</td>\n",
       "    </tr>\n",
       "    <tr>\n",
       "      <th>450</th>\n",
       "      <td>Ung Hoa</td>\n",
       "      <td>POLYGON ((105.71488 20.80937, 105.71937 20.800...</td>\n",
       "    </tr>\n",
       "    <tr>\n",
       "      <th>454</th>\n",
       "      <td>My Duc</td>\n",
       "      <td>POLYGON ((105.70824 20.82502, 105.70787 20.813...</td>\n",
       "    </tr>\n",
       "    <tr>\n",
       "      <th>466</th>\n",
       "      <td>Thuong Tin</td>\n",
       "      <td>POLYGON ((105.83193 20.90878, 105.83352 20.905...</td>\n",
       "    </tr>\n",
       "    <tr>\n",
       "      <th>469</th>\n",
       "      <td>Thanh Oai</td>\n",
       "      <td>POLYGON ((105.77058 20.94322, 105.78167 20.943...</td>\n",
       "    </tr>\n",
       "    <tr>\n",
       "      <th>473</th>\n",
       "      <td>Chuong My</td>\n",
       "      <td>POLYGON ((105.69211 20.95937, 105.69213 20.958...</td>\n",
       "    </tr>\n",
       "    <tr>\n",
       "      <th>478</th>\n",
       "      <td>Thanh Tri</td>\n",
       "      <td>POLYGON ((105.79984 20.99091, 105.80589 20.987...</td>\n",
       "    </tr>\n",
       "    <tr>\n",
       "      <th>480</th>\n",
       "      <td>Ha Dong</td>\n",
       "      <td>POLYGON ((105.73860 20.99242, 105.74547 20.992...</td>\n",
       "    </tr>\n",
       "    <tr>\n",
       "      <th>482</th>\n",
       "      <td>Hoang Mai</td>\n",
       "      <td>POLYGON ((105.89015 21.00095, 105.90058 20.993...</td>\n",
       "    </tr>\n",
       "    <tr>\n",
       "      <th>484</th>\n",
       "      <td>Thanh Xuan</td>\n",
       "      <td>POLYGON ((105.81692 21.00570, 105.82202 21.003...</td>\n",
       "    </tr>\n",
       "    <tr>\n",
       "      <th>486</th>\n",
       "      <td>Hai Ba Trung</td>\n",
       "      <td>POLYGON ((105.86997 21.01682, 105.87814 21.009...</td>\n",
       "    </tr>\n",
       "    <tr>\n",
       "      <th>488</th>\n",
       "      <td>Dong Da</td>\n",
       "      <td>POLYGON ((105.83157 21.03140, 105.83820 21.030...</td>\n",
       "    </tr>\n",
       "    <tr>\n",
       "      <th>489</th>\n",
       "      <td>Hoan Kiem</td>\n",
       "      <td>POLYGON ((105.86275 21.03530, 105.86822 21.021...</td>\n",
       "    </tr>\n",
       "    <tr>\n",
       "      <th>490</th>\n",
       "      <td>Quoc Oai</td>\n",
       "      <td>POLYGON ((105.65105 21.04309, 105.65255 21.038...</td>\n",
       "    </tr>\n",
       "    <tr>\n",
       "      <th>495</th>\n",
       "      <td>Me Linh</td>\n",
       "      <td>POLYGON ((105.66579 21.23910, 105.66759 21.234...</td>\n",
       "    </tr>\n",
       "    <tr>\n",
       "      <th>502</th>\n",
       "      <td>Ba Vi</td>\n",
       "      <td>POLYGON ((105.42320 21.28991, 105.43024 21.283...</td>\n",
       "    </tr>\n",
       "    <tr>\n",
       "      <th>509</th>\n",
       "      <td>Soc Son</td>\n",
       "      <td>POLYGON ((105.80092 21.38598, 105.81112 21.384...</td>\n",
       "    </tr>\n",
       "  </tbody>\n",
       "</table>\n",
       "</div>"
      ],
      "text/plain": [
       "             Quận                                           geometry\n",
       "415       Ba Dinh  POLYGON ((105.83844 21.05651, 105.84544 21.054...\n",
       "416      Cau Giay  POLYGON ((105.80648 21.04909, 105.80526 21.049...\n",
       "419     Long Bien  POLYGON ((105.84409 21.08138, 105.84501 21.081...\n",
       "422      Hoai Duc  POLYGON ((105.69299 21.08890, 105.69663 21.086...\n",
       "424        Tay Ho  POLYGON ((105.81210 21.10103, 105.81799 21.098...\n",
       "425    Thach That  POLYGON ((105.56924 21.09892, 105.57018 21.098...\n",
       "427       Tu Liem  POLYGON ((105.73040 21.11217, 105.74051 21.103...\n",
       "428       Gia Lam  POLYGON ((105.91323 21.12309, 105.91990 21.122...\n",
       "432    Dan Phuong  POLYGON ((105.65003 21.15468, 105.66039 21.152...\n",
       "434      Phuc Tho  POLYGON ((105.60475 21.16508, 105.60633 21.164...\n",
       "435       Son Tay  POLYGON ((105.46825 21.17711, 105.47013 21.175...\n",
       "438      Dong Anh  POLYGON ((105.87070 21.20770, 105.87097 21.207...\n",
       "449     Phu Xuyen  POLYGON ((105.82787 20.80504, 105.82790 20.800...\n",
       "450       Ung Hoa  POLYGON ((105.71488 20.80937, 105.71937 20.800...\n",
       "454        My Duc  POLYGON ((105.70824 20.82502, 105.70787 20.813...\n",
       "466    Thuong Tin  POLYGON ((105.83193 20.90878, 105.83352 20.905...\n",
       "469     Thanh Oai  POLYGON ((105.77058 20.94322, 105.78167 20.943...\n",
       "473     Chuong My  POLYGON ((105.69211 20.95937, 105.69213 20.958...\n",
       "478     Thanh Tri  POLYGON ((105.79984 20.99091, 105.80589 20.987...\n",
       "480       Ha Dong  POLYGON ((105.73860 20.99242, 105.74547 20.992...\n",
       "482     Hoang Mai  POLYGON ((105.89015 21.00095, 105.90058 20.993...\n",
       "484    Thanh Xuan  POLYGON ((105.81692 21.00570, 105.82202 21.003...\n",
       "486  Hai Ba Trung  POLYGON ((105.86997 21.01682, 105.87814 21.009...\n",
       "488       Dong Da  POLYGON ((105.83157 21.03140, 105.83820 21.030...\n",
       "489     Hoan Kiem  POLYGON ((105.86275 21.03530, 105.86822 21.021...\n",
       "490      Quoc Oai  POLYGON ((105.65105 21.04309, 105.65255 21.038...\n",
       "495       Me Linh  POLYGON ((105.66579 21.23910, 105.66759 21.234...\n",
       "502         Ba Vi  POLYGON ((105.42320 21.28991, 105.43024 21.283...\n",
       "509       Soc Son  POLYGON ((105.80092 21.38598, 105.81112 21.384..."
      ]
     },
     "execution_count": 4,
     "metadata": {},
     "output_type": "execute_result"
    }
   ],
   "source": [
    "# Giữ cột chứa tên quận/huyện và tọa độ, thay đổi tên cột\n",
    "gdf = gdf[['Ten_Huyen', 'geometry']]\n",
    "gdf = gdf.rename(columns={'Ten_Huyen': 'Quận'})\n",
    "gdf"
   ]
  },
  {
   "cell_type": "code",
   "execution_count": 5,
   "metadata": {},
   "outputs": [
    {
     "data": {
      "text/plain": [
       "array(['Ba Dinh', 'Cau Giay', 'Long Bien', 'Hoai Duc', 'Tay Ho',\n",
       "       'Thach That', 'Tu Liem', 'Gia Lam', 'Dan Phuong', 'Phuc Tho',\n",
       "       'Son Tay', 'Dong Anh', 'Phu Xuyen', 'Ung Hoa', 'My Duc',\n",
       "       'Thuong Tin', 'Thanh Oai', 'Chuong My', 'Thanh Tri', 'Ha Dong',\n",
       "       'Hoang Mai', 'Thanh Xuan', 'Hai Ba Trung', 'Dong Da', 'Hoan Kiem',\n",
       "       'Quoc Oai', 'Me Linh', 'Ba Vi', 'Soc Son'], dtype=object)"
      ]
     },
     "execution_count": 5,
     "metadata": {},
     "output_type": "execute_result"
    }
   ],
   "source": [
    "# Các giá trị của tên quận không có dấu\n",
    "gdf['Quận'].unique()"
   ]
  },
  {
   "cell_type": "code",
   "execution_count": 6,
   "metadata": {},
   "outputs": [
    {
     "data": {
      "text/plain": [
       "29"
      ]
     },
     "execution_count": 6,
     "metadata": {},
     "output_type": "execute_result"
    }
   ],
   "source": [
    "len(gdf)"
   ]
  },
  {
   "cell_type": "code",
   "execution_count": 7,
   "metadata": {},
   "outputs": [],
   "source": [
    "gdf.to_file('geo_hanoi_for_dashboard.geojson', driver='GeoJSON')"
   ]
  }
 ],
 "metadata": {
  "kernelspec": {
   "display_name": "base",
   "language": "python",
   "name": "python3"
  },
  "language_info": {
   "codemirror_mode": {
    "name": "ipython",
    "version": 3
   },
   "file_extension": ".py",
   "mimetype": "text/x-python",
   "name": "python",
   "nbconvert_exporter": "python",
   "pygments_lexer": "ipython3",
   "version": "3.9.12"
  },
  "orig_nbformat": 4
 },
 "nbformat": 4,
 "nbformat_minor": 2
}
